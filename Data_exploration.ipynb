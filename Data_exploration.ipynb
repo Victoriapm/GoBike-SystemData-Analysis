{
 "cells": [
  {
   "cell_type": "markdown",
   "metadata": {},
   "source": [
    "# Ford GoBike System Data Exploration\n",
    "## by Victoria Perez Mola\n",
    "\n",
    "## Introduction \n",
    "\n",
    "The dataset chosen to perform an analysis is the [Bay wheels (ex Ford GoBike) System Data](https://www.lyft.com/bikes/bay-wheels/system-data). \n",
    "This data set includes information about individual rides made in a bike-sharing system covering the greater San Francisco Bay area.\n",
    "\n",
    "## The Data\n",
    "\n",
    "Each trip is anonymized and includes:\n",
    "\n",
    "* Trip Duration (seconds)\n",
    "* Start Time and Date\n",
    "* End Time and Date\n",
    "* Start Station ID\n",
    "* Start Station Name\n",
    "* Start Station Latitude\n",
    "* Start Station Longitude\n",
    "* End Station ID\n",
    "* End Station Name\n",
    "* End Station Latitude\n",
    "* End Station Longitude\n",
    "* Bike ID\n",
    "* User Type (Subscriber or Customer – “Subscriber” = Member or “Customer” = Casual)\n",
    "\n",
    "## Preliminary Wrangling"
   ]
  },
  {
   "cell_type": "code",
   "execution_count": 17,
   "metadata": {},
   "outputs": [],
   "source": [
    "# import packages\n",
    "import numpy as np\n",
    "import pandas as pd\n",
    "import matplotlib.pyplot as plt\n",
    "import seaborn as sb\n",
    "from os import listdir\n",
    "\n",
    "%matplotlib inline"
   ]
  },
  {
   "cell_type": "markdown",
   "metadata": {},
   "source": [
    "Read all files from the Data folder and join them into one single dataset."
   ]
  },
  {
   "cell_type": "code",
   "execution_count": 20,
   "metadata": {},
   "outputs": [],
   "source": [
    "files_list = []\n",
    "data_dir = 'Data'\n",
    "\n",
    "# read and append each file in the folder\n",
    "for file in listdir(data_dir):\n",
    "    files_list.append(pd.read_csv(data_dir+'/'+file))\n",
    "    \n",
    "# assign the files data to a data frame    \n",
    "df = pd.concat(files_list)"
   ]
  },
  {
   "cell_type": "code",
   "execution_count": 23,
   "metadata": {},
   "outputs": [
    {
     "data": {
      "text/html": [
       "<div>\n",
       "<style scoped>\n",
       "    .dataframe tbody tr th:only-of-type {\n",
       "        vertical-align: middle;\n",
       "    }\n",
       "\n",
       "    .dataframe tbody tr th {\n",
       "        vertical-align: top;\n",
       "    }\n",
       "\n",
       "    .dataframe thead th {\n",
       "        text-align: right;\n",
       "    }\n",
       "</style>\n",
       "<table border=\"1\" class=\"dataframe\">\n",
       "  <thead>\n",
       "    <tr style=\"text-align: right;\">\n",
       "      <th></th>\n",
       "      <th>duration_sec</th>\n",
       "      <th>start_time</th>\n",
       "      <th>end_time</th>\n",
       "      <th>start_station_id</th>\n",
       "      <th>start_station_name</th>\n",
       "      <th>start_station_latitude</th>\n",
       "      <th>start_station_longitude</th>\n",
       "      <th>end_station_id</th>\n",
       "      <th>end_station_name</th>\n",
       "      <th>end_station_latitude</th>\n",
       "      <th>end_station_longitude</th>\n",
       "      <th>bike_id</th>\n",
       "      <th>user_type</th>\n",
       "      <th>bike_share_for_all_trip</th>\n",
       "      <th>rental_access_method</th>\n",
       "    </tr>\n",
       "  </thead>\n",
       "  <tbody>\n",
       "    <tr>\n",
       "      <th>87968</th>\n",
       "      <td>335</td>\n",
       "      <td>2019-06-17 09:51:55.9190</td>\n",
       "      <td>2019-06-17 09:57:31.6990</td>\n",
       "      <td>19.0</td>\n",
       "      <td>Post St at Kearny St</td>\n",
       "      <td>37.788975</td>\n",
       "      <td>-122.403452</td>\n",
       "      <td>14.0</td>\n",
       "      <td>Clay St at Battery St</td>\n",
       "      <td>37.795001</td>\n",
       "      <td>-122.399970</td>\n",
       "      <td>2410</td>\n",
       "      <td>Subscriber</td>\n",
       "      <td>No</td>\n",
       "      <td>NaN</td>\n",
       "    </tr>\n",
       "    <tr>\n",
       "      <th>179011</th>\n",
       "      <td>258</td>\n",
       "      <td>2019-11-01 16:49:43.8360</td>\n",
       "      <td>2019-11-01 16:54:02.1150</td>\n",
       "      <td>182.0</td>\n",
       "      <td>19th Street BART Station</td>\n",
       "      <td>37.809369</td>\n",
       "      <td>-122.267951</td>\n",
       "      <td>196.0</td>\n",
       "      <td>Grand Ave at Perkins St</td>\n",
       "      <td>37.808894</td>\n",
       "      <td>-122.256460</td>\n",
       "      <td>11569</td>\n",
       "      <td>Subscriber</td>\n",
       "      <td>No</td>\n",
       "      <td>NaN</td>\n",
       "    </tr>\n",
       "    <tr>\n",
       "      <th>121314</th>\n",
       "      <td>1082</td>\n",
       "      <td>2019-06-11 17:05:07.4360</td>\n",
       "      <td>2019-06-11 17:23:10.2770</td>\n",
       "      <td>350.0</td>\n",
       "      <td>8th St at Brannan St</td>\n",
       "      <td>37.771431</td>\n",
       "      <td>-122.405787</td>\n",
       "      <td>119.0</td>\n",
       "      <td>18th St at Noe St</td>\n",
       "      <td>37.761047</td>\n",
       "      <td>-122.432642</td>\n",
       "      <td>419</td>\n",
       "      <td>Subscriber</td>\n",
       "      <td>No</td>\n",
       "      <td>NaN</td>\n",
       "    </tr>\n",
       "  </tbody>\n",
       "</table>\n",
       "</div>"
      ],
      "text/plain": [
       "        duration_sec                start_time                  end_time  \\\n",
       "87968            335  2019-06-17 09:51:55.9190  2019-06-17 09:57:31.6990   \n",
       "179011           258  2019-11-01 16:49:43.8360  2019-11-01 16:54:02.1150   \n",
       "121314          1082  2019-06-11 17:05:07.4360  2019-06-11 17:23:10.2770   \n",
       "\n",
       "        start_station_id        start_station_name  start_station_latitude  \\\n",
       "87968               19.0      Post St at Kearny St               37.788975   \n",
       "179011             182.0  19th Street BART Station               37.809369   \n",
       "121314             350.0      8th St at Brannan St               37.771431   \n",
       "\n",
       "        start_station_longitude  end_station_id         end_station_name  \\\n",
       "87968               -122.403452            14.0    Clay St at Battery St   \n",
       "179011              -122.267951           196.0  Grand Ave at Perkins St   \n",
       "121314              -122.405787           119.0        18th St at Noe St   \n",
       "\n",
       "        end_station_latitude  end_station_longitude  bike_id   user_type  \\\n",
       "87968              37.795001            -122.399970     2410  Subscriber   \n",
       "179011             37.808894            -122.256460    11569  Subscriber   \n",
       "121314             37.761047            -122.432642      419  Subscriber   \n",
       "\n",
       "       bike_share_for_all_trip rental_access_method  \n",
       "87968                       No                  NaN  \n",
       "179011                      No                  NaN  \n",
       "121314                      No                  NaN  "
      ]
     },
     "execution_count": 23,
     "metadata": {},
     "output_type": "execute_result"
    }
   ],
   "source": [
    "# Check dataframe\n",
    "df.sample(3)"
   ]
  },
  {
   "cell_type": "code",
   "execution_count": 21,
   "metadata": {},
   "outputs": [
    {
     "data": {
      "text/plain": [
       "(3036496, 15)"
      ]
     },
     "execution_count": 21,
     "metadata": {},
     "output_type": "execute_result"
    }
   ],
   "source": [
    "# Check the amount of data\n",
    "df.shape"
   ]
  },
  {
   "cell_type": "code",
   "execution_count": 22,
   "metadata": {},
   "outputs": [
    {
     "name": "stdout",
     "output_type": "stream",
     "text": [
      "<class 'pandas.core.frame.DataFrame'>\n",
      "Int64Index: 3036496 entries, 0 to 176798\n",
      "Data columns (total 15 columns):\n",
      " #   Column                   Dtype  \n",
      "---  ------                   -----  \n",
      " 0   duration_sec             int64  \n",
      " 1   start_time               object \n",
      " 2   end_time                 object \n",
      " 3   start_station_id         float64\n",
      " 4   start_station_name       object \n",
      " 5   start_station_latitude   float64\n",
      " 6   start_station_longitude  float64\n",
      " 7   end_station_id           float64\n",
      " 8   end_station_name         object \n",
      " 9   end_station_latitude     float64\n",
      " 10  end_station_longitude    float64\n",
      " 11  bike_id                  int64  \n",
      " 12  user_type                object \n",
      " 13  bike_share_for_all_trip  object \n",
      " 14  rental_access_method     object \n",
      "dtypes: float64(6), int64(2), object(7)\n",
      "memory usage: 370.7+ MB\n"
     ]
    }
   ],
   "source": [
    "#get information about the joint dataset\n",
    "df.info()"
   ]
  },
  {
   "cell_type": "code",
   "execution_count": 24,
   "metadata": {},
   "outputs": [
    {
     "data": {
      "text/plain": [
       "duration_sec                 15717\n",
       "start_time                 2974901\n",
       "end_time                   2974562\n",
       "start_station_id               455\n",
       "start_station_name             473\n",
       "start_station_latitude      319513\n",
       "start_station_longitude     339226\n",
       "end_station_id                 455\n",
       "end_station_name               473\n",
       "end_station_latitude        322392\n",
       "end_station_longitude       343102\n",
       "bike_id                      14382\n",
       "user_type                        2\n",
       "bike_share_for_all_trip          2\n",
       "rental_access_method             2\n",
       "dtype: int64"
      ]
     },
     "execution_count": 24,
     "metadata": {},
     "output_type": "execute_result"
    }
   ],
   "source": [
    "df.nunique()"
   ]
  },
  {
   "cell_type": "code",
   "execution_count": 26,
   "metadata": {},
   "outputs": [
    {
     "data": {
      "text/html": [
       "<div>\n",
       "<style scoped>\n",
       "    .dataframe tbody tr th:only-of-type {\n",
       "        vertical-align: middle;\n",
       "    }\n",
       "\n",
       "    .dataframe tbody tr th {\n",
       "        vertical-align: top;\n",
       "    }\n",
       "\n",
       "    .dataframe thead th {\n",
       "        text-align: right;\n",
       "    }\n",
       "</style>\n",
       "<table border=\"1\" class=\"dataframe\">\n",
       "  <thead>\n",
       "    <tr style=\"text-align: right;\">\n",
       "      <th></th>\n",
       "      <th>duration_sec</th>\n",
       "      <th>start_station_id</th>\n",
       "      <th>start_station_latitude</th>\n",
       "      <th>start_station_longitude</th>\n",
       "      <th>end_station_id</th>\n",
       "      <th>end_station_latitude</th>\n",
       "      <th>end_station_longitude</th>\n",
       "      <th>bike_id</th>\n",
       "    </tr>\n",
       "  </thead>\n",
       "  <tbody>\n",
       "    <tr>\n",
       "      <th>count</th>\n",
       "      <td>3.036496e+06</td>\n",
       "      <td>2.469905e+06</td>\n",
       "      <td>3.036496e+06</td>\n",
       "      <td>3.036496e+06</td>\n",
       "      <td>2.468257e+06</td>\n",
       "      <td>3.036496e+06</td>\n",
       "      <td>3.036496e+06</td>\n",
       "      <td>3.036496e+06</td>\n",
       "    </tr>\n",
       "    <tr>\n",
       "      <th>mean</th>\n",
       "      <td>8.159040e+02</td>\n",
       "      <td>1.530668e+02</td>\n",
       "      <td>3.775906e+01</td>\n",
       "      <td>-1.223513e+02</td>\n",
       "      <td>1.484574e+02</td>\n",
       "      <td>3.775821e+01</td>\n",
       "      <td>-1.223474e+02</td>\n",
       "      <td>1.254098e+05</td>\n",
       "    </tr>\n",
       "    <tr>\n",
       "      <th>std</th>\n",
       "      <td>1.913268e+03</td>\n",
       "      <td>1.286385e+02</td>\n",
       "      <td>1.730132e-01</td>\n",
       "      <td>4.490454e-01</td>\n",
       "      <td>1.276466e+02</td>\n",
       "      <td>2.606699e-01</td>\n",
       "      <td>7.751218e-01</td>\n",
       "      <td>2.431072e+05</td>\n",
       "    </tr>\n",
       "    <tr>\n",
       "      <th>min</th>\n",
       "      <td>6.000000e+01</td>\n",
       "      <td>3.000000e+00</td>\n",
       "      <td>0.000000e+00</td>\n",
       "      <td>-1.225143e+02</td>\n",
       "      <td>3.000000e+00</td>\n",
       "      <td>0.000000e+00</td>\n",
       "      <td>-1.225758e+02</td>\n",
       "      <td>4.000000e+00</td>\n",
       "    </tr>\n",
       "    <tr>\n",
       "      <th>25%</th>\n",
       "      <td>3.670000e+02</td>\n",
       "      <td>5.000000e+01</td>\n",
       "      <td>3.776750e+01</td>\n",
       "      <td>-1.224163e+02</td>\n",
       "      <td>4.300000e+01</td>\n",
       "      <td>3.776835e+01</td>\n",
       "      <td>-1.224143e+02</td>\n",
       "      <td>2.410000e+03</td>\n",
       "    </tr>\n",
       "    <tr>\n",
       "      <th>50%</th>\n",
       "      <td>5.840000e+02</td>\n",
       "      <td>1.090000e+02</td>\n",
       "      <td>3.777877e+01</td>\n",
       "      <td>-1.223997e+02</td>\n",
       "      <td>1.040000e+02</td>\n",
       "      <td>3.777922e+01</td>\n",
       "      <td>-1.223991e+02</td>\n",
       "      <td>7.041000e+03</td>\n",
       "    </tr>\n",
       "    <tr>\n",
       "      <th>75%</th>\n",
       "      <td>9.100000e+02</td>\n",
       "      <td>2.460000e+02</td>\n",
       "      <td>3.779429e+01</td>\n",
       "      <td>-1.223889e+02</td>\n",
       "      <td>2.430000e+02</td>\n",
       "      <td>3.779500e+01</td>\n",
       "      <td>-1.223889e+02</td>\n",
       "      <td>1.300000e+04</td>\n",
       "    </tr>\n",
       "    <tr>\n",
       "      <th>max</th>\n",
       "      <td>9.121100e+05</td>\n",
       "      <td>5.210000e+02</td>\n",
       "      <td>4.551000e+01</td>\n",
       "      <td>0.000000e+00</td>\n",
       "      <td>5.210000e+02</td>\n",
       "      <td>4.551000e+01</td>\n",
       "      <td>0.000000e+00</td>\n",
       "      <td>9.999600e+05</td>\n",
       "    </tr>\n",
       "  </tbody>\n",
       "</table>\n",
       "</div>"
      ],
      "text/plain": [
       "       duration_sec  start_station_id  start_station_latitude  \\\n",
       "count  3.036496e+06      2.469905e+06            3.036496e+06   \n",
       "mean   8.159040e+02      1.530668e+02            3.775906e+01   \n",
       "std    1.913268e+03      1.286385e+02            1.730132e-01   \n",
       "min    6.000000e+01      3.000000e+00            0.000000e+00   \n",
       "25%    3.670000e+02      5.000000e+01            3.776750e+01   \n",
       "50%    5.840000e+02      1.090000e+02            3.777877e+01   \n",
       "75%    9.100000e+02      2.460000e+02            3.779429e+01   \n",
       "max    9.121100e+05      5.210000e+02            4.551000e+01   \n",
       "\n",
       "       start_station_longitude  end_station_id  end_station_latitude  \\\n",
       "count             3.036496e+06    2.468257e+06          3.036496e+06   \n",
       "mean             -1.223513e+02    1.484574e+02          3.775821e+01   \n",
       "std               4.490454e-01    1.276466e+02          2.606699e-01   \n",
       "min              -1.225143e+02    3.000000e+00          0.000000e+00   \n",
       "25%              -1.224163e+02    4.300000e+01          3.776835e+01   \n",
       "50%              -1.223997e+02    1.040000e+02          3.777922e+01   \n",
       "75%              -1.223889e+02    2.430000e+02          3.779500e+01   \n",
       "max               0.000000e+00    5.210000e+02          4.551000e+01   \n",
       "\n",
       "       end_station_longitude       bike_id  \n",
       "count           3.036496e+06  3.036496e+06  \n",
       "mean           -1.223474e+02  1.254098e+05  \n",
       "std             7.751218e-01  2.431072e+05  \n",
       "min            -1.225758e+02  4.000000e+00  \n",
       "25%            -1.224143e+02  2.410000e+03  \n",
       "50%            -1.223991e+02  7.041000e+03  \n",
       "75%            -1.223889e+02  1.300000e+04  \n",
       "max             0.000000e+00  9.999600e+05  "
      ]
     },
     "execution_count": 26,
     "metadata": {},
     "output_type": "execute_result"
    }
   ],
   "source": [
    "df.describe()"
   ]
  },
  {
   "cell_type": "markdown",
   "metadata": {},
   "source": [
    "- fields start_time and end_time should be datetime\n",
    "- start_station_id and end_station_id are float"
   ]
  },
  {
   "cell_type": "code",
   "execution_count": 5,
   "metadata": {},
   "outputs": [],
   "source": [
    "# correct datatype for columns start_time and end_time to datetime\n",
    "df.start_time = pd.to_datetime(df.start_time)\n",
    "df.end_time = pd.to_datetime(df.end_time)"
   ]
  },
  {
   "cell_type": "markdown",
   "metadata": {},
   "source": [
    "### What is the structure of your dataset?\n",
    "The dataset contains over 3M ride records, and they have 10 features of diferent nature. "
   ]
  },
  {
   "cell_type": "markdown",
   "metadata": {},
   "source": [
    "### What is/are the main feature(s) of interest in your dataset?"
   ]
  },
  {
   "cell_type": "markdown",
   "metadata": {},
   "source": [
    "* How long is the the average trip? \n",
    "* Has the season of the year an influence on these averages\n",
    "* Is there any peak on the rides any particular time of the day?\n",
    "* Does this has any relation with the user type?\n",
    "* Are there any stations more popular than others? \n",
    "* Does this varies weekdays vs weekends? "
   ]
  },
  {
   "cell_type": "markdown",
   "metadata": {},
   "source": [
    "### What features in the dataset do you think will help support your investigation into your feature(s) of interest?"
   ]
  },
  {
   "cell_type": "markdown",
   "metadata": {},
   "source": [
    "The main features of interest are the station ids, the user type and the start and end time of the rides. \n",
    "To answer the questions I've postulated the start time and end time are with no doubt the most important ones, and the features that more analysis and transformation will need. With this information I could extract the lenght, time of the day, the day of the week, and the season the trips are taking place. \n",
    "\n",
    "I will also need the user type and the stations ids to add information on the previous variables and to find correlations between the data."
   ]
  },
  {
   "cell_type": "markdown",
   "metadata": {},
   "source": [
    "## Univariate Exploration\n",
    "\n",
    "> In this section, investigate distributions of individual variables. If\n",
    "you see unusual points or outliers, take a deeper look to clean things up\n",
    "and prepare yourself to look at relationships between variables."
   ]
  },
  {
   "cell_type": "code",
   "execution_count": null,
   "metadata": {},
   "outputs": [],
   "source": []
  },
  {
   "cell_type": "markdown",
   "metadata": {},
   "source": [
    "> Make sure that, after every plot or related series of plots, that you\n",
    "include a Markdown cell with comments about what you observed, and what\n",
    "you plan on investigating next."
   ]
  },
  {
   "cell_type": "code",
   "execution_count": null,
   "metadata": {},
   "outputs": [],
   "source": []
  },
  {
   "cell_type": "markdown",
   "metadata": {},
   "source": [
    "### Discuss the distribution(s) of your variable(s) of interest. Were there any unusual points? Did you need to perform any transformations?\n",
    "\n",
    "> Your answer here!\n",
    "\n",
    "### Of the features you investigated, were there any unusual distributions? Did you perform any operations on the data to tidy, adjust, or change the form of the data? If so, why did you do this?\n",
    "\n",
    "> Your answer here!"
   ]
  },
  {
   "cell_type": "markdown",
   "metadata": {},
   "source": [
    "## Bivariate Exploration\n",
    "\n",
    "> In this section, investigate relationships between pairs of variables in your\n",
    "data. Make sure the variables that you cover here have been introduced in some\n",
    "fashion in the previous section (univariate exploration)."
   ]
  },
  {
   "cell_type": "code",
   "execution_count": null,
   "metadata": {},
   "outputs": [],
   "source": []
  },
  {
   "cell_type": "markdown",
   "metadata": {},
   "source": [
    "### Talk about some of the relationships you observed in this part of the investigation. How did the feature(s) of interest vary with other features in the dataset?\n",
    "\n",
    "> Your answer here!\n",
    "\n",
    "### Did you observe any interesting relationships between the other features (not the main feature(s) of interest)?\n",
    "\n",
    "> Your answer here!"
   ]
  },
  {
   "cell_type": "markdown",
   "metadata": {},
   "source": [
    "## Multivariate Exploration\n",
    "\n",
    "> Create plots of three or more variables to investigate your data even\n",
    "further. Make sure that your investigations are justified, and follow from\n",
    "your work in the previous sections."
   ]
  },
  {
   "cell_type": "code",
   "execution_count": null,
   "metadata": {},
   "outputs": [],
   "source": []
  },
  {
   "cell_type": "markdown",
   "metadata": {},
   "source": [
    "### Talk about some of the relationships you observed in this part of the investigation. Were there features that strengthened each other in terms of looking at your feature(s) of interest?\n",
    "\n",
    "> Your answer here!\n",
    "\n",
    "### Were there any interesting or surprising interactions between features?\n",
    "\n",
    "> Your answer here!"
   ]
  },
  {
   "cell_type": "markdown",
   "metadata": {},
   "source": [
    "> At the end of your report, make sure that you export the notebook as an\n",
    "html file from the `File > Download as... > HTML` menu. Make sure you keep\n",
    "track of where the exported file goes, so you can put it in the same folder\n",
    "as this notebook for project submission. Also, make sure you remove all of\n",
    "the quote-formatted guide notes like this one before you finish your report!"
   ]
  },
  {
   "cell_type": "code",
   "execution_count": null,
   "metadata": {},
   "outputs": [],
   "source": []
  }
 ],
 "metadata": {
  "kernelspec": {
   "display_name": "Python 3",
   "language": "python",
   "name": "python3"
  },
  "language_info": {
   "codemirror_mode": {
    "name": "ipython",
    "version": 3
   },
   "file_extension": ".py",
   "mimetype": "text/x-python",
   "name": "python",
   "nbconvert_exporter": "python",
   "pygments_lexer": "ipython3",
   "version": "3.7.6"
  }
 },
 "nbformat": 4,
 "nbformat_minor": 4
}
